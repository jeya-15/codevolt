{
 "cells": [
  {
   "cell_type": "code",
   "execution_count": 163,
   "id": "c2b7db55-f10c-45bb-91ed-b1c4c1a36212",
   "metadata": {},
   "outputs": [],
   "source": [
    "import torch\n",
    "import torch.nn as nn\n",
    "import torch.optim as optim\n",
    "import random\n",
    "import pandas as pd\n",
    "from collections import deque"
   ]
  },
  {
   "cell_type": "code",
   "execution_count": 132,
   "id": "a1946c8b-ef8b-47ef-bbee-3b1fa5d38463",
   "metadata": {},
   "outputs": [],
   "source": [
    "# Load dataset\n",
    "df = pd.read_csv(\"charging_data.csv\")\n",
    "\n",
    "# Encode categorical features\n",
    "df[\"Weather\"] = df[\"Weather\"].astype(\"category\").cat.codes  # Convert Weather to numeric\n",
    "# Encode categorical features\n",
    "df[\"Weekend\"] = df[\"Weekend\"].astype(\"category\").cat.codes  # Convert Weather to numeric\n",
    "\n",
    "# Convert DataFrame to NumPy array\n",
    "data = df.to_numpy()"
   ]
  },
  {
   "cell_type": "code",
   "execution_count": 154,
   "id": "0a6b36ce-65fd-49cd-8690-f17e888d3695",
   "metadata": {},
   "outputs": [
    {
     "data": {
      "text/html": [
       "<div>\n",
       "<style scoped>\n",
       "    .dataframe tbody tr th:only-of-type {\n",
       "        vertical-align: middle;\n",
       "    }\n",
       "\n",
       "    .dataframe tbody tr th {\n",
       "        vertical-align: top;\n",
       "    }\n",
       "\n",
       "    .dataframe thead th {\n",
       "        text-align: right;\n",
       "    }\n",
       "</style>\n",
       "<table border=\"1\" class=\"dataframe\">\n",
       "  <thead>\n",
       "    <tr style=\"text-align: right;\">\n",
       "      <th></th>\n",
       "      <th>Hour</th>\n",
       "      <th>Charging_Count</th>\n",
       "      <th>Weather</th>\n",
       "      <th>Weekend</th>\n",
       "      <th>Charging_Duration</th>\n",
       "    </tr>\n",
       "  </thead>\n",
       "  <tbody>\n",
       "    <tr>\n",
       "      <th>0</th>\n",
       "      <td>9</td>\n",
       "      <td>77</td>\n",
       "      <td>0</td>\n",
       "      <td>0</td>\n",
       "      <td>34</td>\n",
       "    </tr>\n",
       "    <tr>\n",
       "      <th>1</th>\n",
       "      <td>2</td>\n",
       "      <td>30</td>\n",
       "      <td>0</td>\n",
       "      <td>1</td>\n",
       "      <td>71</td>\n",
       "    </tr>\n",
       "    <tr>\n",
       "      <th>2</th>\n",
       "      <td>12</td>\n",
       "      <td>45</td>\n",
       "      <td>3</td>\n",
       "      <td>0</td>\n",
       "      <td>21</td>\n",
       "    </tr>\n",
       "    <tr>\n",
       "      <th>3</th>\n",
       "      <td>1</td>\n",
       "      <td>38</td>\n",
       "      <td>2</td>\n",
       "      <td>0</td>\n",
       "      <td>60</td>\n",
       "    </tr>\n",
       "    <tr>\n",
       "      <th>4</th>\n",
       "      <td>2</td>\n",
       "      <td>46</td>\n",
       "      <td>3</td>\n",
       "      <td>0</td>\n",
       "      <td>51</td>\n",
       "    </tr>\n",
       "  </tbody>\n",
       "</table>\n",
       "</div>"
      ],
      "text/plain": [
       "   Hour  Charging_Count  Weather  Weekend  Charging_Duration\n",
       "0     9              77        0        0                 34\n",
       "1     2              30        0        1                 71\n",
       "2    12              45        3        0                 21\n",
       "3     1              38        2        0                 60\n",
       "4     2              46        3        0                 51"
      ]
     },
     "execution_count": 154,
     "metadata": {},
     "output_type": "execute_result"
    }
   ],
   "source": [
    "df.head()"
   ]
  },
  {
   "cell_type": "code",
   "execution_count": 164,
   "id": "3921771f-4215-47a3-9137-7ebafaf7a159",
   "metadata": {},
   "outputs": [],
   "source": [
    "\n",
    "# Hyperparameters\n",
    "EPISODES = 2000\n",
    "GAMMA = 0.9\n",
    "EPSILON = 0.9\n",
    "EPSILON_DECAY = 0.995\n",
    "MIN_EPSILON = 0.01\n",
    "BATCH_SIZE = 64\n",
    "LEARNING_RATE = 0.001\n",
    "MEMORY = deque(maxlen=10000)  # Fixed-size memory buffer\n"
   ]
  },
  {
   "cell_type": "code",
   "execution_count": 147,
   "id": "f1f9c8b0-76ac-44f1-9b57-869524db89d7",
   "metadata": {},
   "outputs": [],
   "source": [
    "# Define state and action sizes\n",
    "STATE_SIZE = data.shape[1]  # Number of features (Hour, Charging_Count, Weather, Weekend, Charging_Duration)\n",
    "ACTION_SIZE = 2  # 0: Standard, 1: Increase"
   ]
  },
  {
   "cell_type": "code",
   "execution_count": 165,
   "id": "21b5a550-9ebb-463e-b34e-536545bd54bc",
   "metadata": {},
   "outputs": [],
   "source": [
    "# Define Neural Network\n",
    "class QNetwork(nn.Module):\n",
    "    def __init__(self):\n",
    "        super(QNetwork, self).__init__()\n",
    "        self.fc1 = nn.Linear(STATE_SIZE, 16)\n",
    "        self.fc2 = nn.Linear(16, 16)\n",
    "        self.fc3 = nn.Linear(16, ACTION_SIZE)\n",
    "\n",
    "    def forward(self, x):\n",
    "        x = torch.relu(self.fc1(x))\n",
    "        x = torch.relu(self.fc2(x))\n",
    "        return self.fc3(x)"
   ]
  },
  {
   "cell_type": "code",
   "execution_count": 166,
   "id": "bd26a393-6f13-4948-a697-e45db4511060",
   "metadata": {},
   "outputs": [],
   "source": [
    "# Initialize Model\n",
    "device = torch.device(\"cuda\" if to\n",
    "                      \n",
    "                      \n",
    "                      \n",
    "                      \n",
    "                      rch.cuda.is_available() else \"cpu\")\n",
    "model = QNetwork().to(device)\n",
    "optimizer = optim.Adam(model.parameters(), lr=LEARNING_RATE)\n",
    "loss_fn = nn.MSELoss()"
   ]
  },
  {
   "cell_type": "code",
   "execution_count": 199,
   "id": "87ca80e6-da3b-4f2b-ac23-369fb0b8552d",
   "metadata": {},
   "outputs": [
    {
     "name": "stdout",
     "output_type": "stream",
     "text": [
      "[17, 18, 19, 17, 18]\n"
     ]
    }
   ],
   "source": [
    "import requests\n",
    "\n",
    "url = \"http://localhost:5000/daily-count/hourly-data\"\n",
    "params = {\"date\": \"2025-03-04\"}\n",
    "\n",
    "response = requests.get(url, params=params)\n",
    "\n",
    "if response.status_code == 200:\n",
    "    data = response.json()\n",
    "    \n",
    "    # Sort the data by charging_count in descending order and extract only hours\n",
    "    top_hours = [entry[\"hour\"] for entry in sorted(data[\"data\"], key=lambda x: x[\"charging_count\"], reverse=True)[:5]]\n",
    "\n",
    "    print(top_hours)  # Output: [14, 14, 15]\n",
    "else:\n",
    "    print(f\"Error: {response.status_code}, {response.text}\")\n"
   ]
  },
  {
   "cell_type": "code",
   "execution_count": 225,
   "id": "eb1b6c34-d0b5-4f72-b965-b73a87c14556",
   "metadata": {},
   "outputs": [],
   "source": [
    "def get_reward(action, hour):\n",
    "    if 6 <= hour <= 10 or 17 <= hour <= 21:  # Peak hours\n",
    "        return 2 if action == 1 else -1  # Reward for increasing charge\n",
    "    else:\n",
    "        return 1 if action == 0 else -0.5  # Reward for standard charge\n"
   ]
  },
  {
   "cell_type": "code",
   "execution_count": 226,
   "id": "03e181a9-2172-47dc-a7be-58424d28f132",
   "metadata": {},
   "outputs": [
    {
     "name": "stdout",
     "output_type": "stream",
     "text": [
      "Episode 0, Loss: 0.6469, Epsilon: 0.010\n",
      "Episode 100, Loss: 0.7164, Epsilon: 0.010\n",
      "Episode 200, Loss: 0.8871, Epsilon: 0.010\n",
      "Episode 300, Loss: 0.6312, Epsilon: 0.010\n",
      "Episode 400, Loss: 0.7405, Epsilon: 0.010\n",
      "Episode 500, Loss: 0.4490, Epsilon: 0.010\n",
      "Episode 600, Loss: 0.6128, Epsilon: 0.010\n",
      "Episode 700, Loss: 0.6724, Epsilon: 0.010\n",
      "Episode 800, Loss: 0.6135, Epsilon: 0.010\n",
      "Episode 900, Loss: 0.6687, Epsilon: 0.010\n",
      "Episode 1000, Loss: 0.6179, Epsilon: 0.010\n",
      "Episode 1100, Loss: 0.8249, Epsilon: 0.010\n",
      "Episode 1200, Loss: 0.5907, Epsilon: 0.010\n",
      "Episode 1300, Loss: 0.8451, Epsilon: 0.010\n",
      "Episode 1400, Loss: 0.7730, Epsilon: 0.010\n",
      "Episode 1500, Loss: 0.6977, Epsilon: 0.010\n",
      "Episode 1600, Loss: 0.6246, Epsilon: 0.010\n",
      "Episode 1700, Loss: 0.8651, Epsilon: 0.010\n",
      "Episode 1800, Loss: 0.6305, Epsilon: 0.010\n",
      "Episode 1900, Loss: 0.7762, Epsilon: 0.010\n",
      "✅ RL Model Trained Successfully!\n"
     ]
    }
   ],
   "source": [
    "# Training Loop\n",
    "for episode in range(EPISODES):\n",
    "    # Select random state\n",
    "    state = df.sample(1).values[0]  # Get one random sample\n",
    "    state = torch.tensor(state, dtype=torch.float32).to(device)  # Convert to tensor\n",
    "\n",
    "    # Epsilon-greedy policy\n",
    "    if random.random() < EPSILON:\n",
    "        action = random.randint(0, ACTION_SIZE - 1)  # Explore\n",
    "    else:\n",
    "        with torch.no_grad():\n",
    "            action = torch.argmax(model(state)).item()  # Exploit\n",
    "\n",
    "    # Compute reward\n",
    "    reward = get_reward(action, state[0])  # Pass only hour\n",
    "\n",
    "    # Select next state\n",
    "    next_state = df.sample(1).values[0]  \n",
    "    next_state = torch.tensor(next_state, dtype=torch.float32).to(device)\n",
    "\n",
    "    # Store experience in replay memory\n",
    "    MEMORY.append((state, action, reward, next_state))\n",
    "\n",
    "    # Training\n",
    "    if len(MEMORY) > BATCH_SIZE:\n",
    "        batch = random.sample(MEMORY, BATCH_SIZE)\n",
    "        states, actions, rewards, next_states = zip(*batch)\n",
    "\n",
    "        states = torch.stack(states)\n",
    "        actions = torch.tensor(actions, dtype=torch.long).to(device)\n",
    "        rewards = torch.tensor(rewards, dtype=torch.float32).to(device)\n",
    "        next_states = torch.stack(next_states)\n",
    "\n",
    "        # Compute target Q-values\n",
    "        target_q = rewards + GAMMA * torch.max(model(next_states), dim=1)[0]\n",
    "\n",
    "        # Compute current Q-values\n",
    "        current_q = model(states).gather(1, actions.unsqueeze(1)).squeeze()\n",
    "\n",
    "        # Compute loss and update model\n",
    "        loss = loss_fn(current_q, target_q)\n",
    "        optimizer.zero_grad()\n",
    "        loss.backward()\n",
    "        optimizer.step()\n",
    "\n",
    "    # Decay epsilon\n",
    "    EPSILON = max(MIN_EPSILON, EPSILON * EPSILON_DECAY)\n",
    "\n",
    "    if episode % 100 == 0:\n",
    "        print(f\"Episode {episode}, Loss: {loss:.4f}, Epsilon: {EPSILON:.3f}\")\n",
    "\n",
    "print(\"✅ RL Model Trained Successfully!\")\n"
   ]
  },
  {
   "cell_type": "code",
   "execution_count": 227,
   "id": "e31cea27-76ac-4288-9f33-3739578e22b0",
   "metadata": {},
   "outputs": [
    {
     "name": "stdout",
     "output_type": "stream",
     "text": [
      "[ 18 106   1   0  52]\n"
     ]
    }
   ],
   "source": [
    "print(df.sample(1).values[0])  # Debugging Step"
   ]
  },
  {
   "cell_type": "code",
   "execution_count": 228,
   "id": "5010c87c-9f37-4bb9-9871-274bd0ed330a",
   "metadata": {},
   "outputs": [
    {
     "data": {
      "text/html": [
       "<div>\n",
       "<style scoped>\n",
       "    .dataframe tbody tr th:only-of-type {\n",
       "        vertical-align: middle;\n",
       "    }\n",
       "\n",
       "    .dataframe tbody tr th {\n",
       "        vertical-align: top;\n",
       "    }\n",
       "\n",
       "    .dataframe thead th {\n",
       "        text-align: right;\n",
       "    }\n",
       "</style>\n",
       "<table border=\"1\" class=\"dataframe\">\n",
       "  <thead>\n",
       "    <tr style=\"text-align: right;\">\n",
       "      <th></th>\n",
       "      <th>Hour</th>\n",
       "      <th>Charging_Count</th>\n",
       "      <th>Weather</th>\n",
       "      <th>Weekend</th>\n",
       "      <th>Charging_Duration</th>\n",
       "    </tr>\n",
       "  </thead>\n",
       "  <tbody>\n",
       "    <tr>\n",
       "      <th>0</th>\n",
       "      <td>9</td>\n",
       "      <td>77</td>\n",
       "      <td>0</td>\n",
       "      <td>0</td>\n",
       "      <td>34</td>\n",
       "    </tr>\n",
       "    <tr>\n",
       "      <th>1</th>\n",
       "      <td>2</td>\n",
       "      <td>30</td>\n",
       "      <td>0</td>\n",
       "      <td>1</td>\n",
       "      <td>71</td>\n",
       "    </tr>\n",
       "    <tr>\n",
       "      <th>2</th>\n",
       "      <td>12</td>\n",
       "      <td>45</td>\n",
       "      <td>3</td>\n",
       "      <td>0</td>\n",
       "      <td>21</td>\n",
       "    </tr>\n",
       "    <tr>\n",
       "      <th>3</th>\n",
       "      <td>1</td>\n",
       "      <td>38</td>\n",
       "      <td>2</td>\n",
       "      <td>0</td>\n",
       "      <td>60</td>\n",
       "    </tr>\n",
       "    <tr>\n",
       "      <th>4</th>\n",
       "      <td>2</td>\n",
       "      <td>46</td>\n",
       "      <td>3</td>\n",
       "      <td>0</td>\n",
       "      <td>51</td>\n",
       "    </tr>\n",
       "  </tbody>\n",
       "</table>\n",
       "</div>"
      ],
      "text/plain": [
       "   Hour  Charging_Count  Weather  Weekend  Charging_Duration\n",
       "0     9              77        0        0                 34\n",
       "1     2              30        0        1                 71\n",
       "2    12              45        3        0                 21\n",
       "3     1              38        2        0                 60\n",
       "4     2              46        3        0                 51"
      ]
     },
     "execution_count": 228,
     "metadata": {},
     "output_type": "execute_result"
    }
   ],
   "source": [
    "df.head()"
   ]
  },
  {
   "cell_type": "code",
   "execution_count": 229,
   "id": "381ba94d-050d-4a0c-a905-0413cf09bc92",
   "metadata": {},
   "outputs": [],
   "source": [
    "test_state = (23,80,2,0,56)  # hour, minute, weather, charging_duration, peak_hour"
   ]
  },
  {
   "cell_type": "code",
   "execution_count": 230,
   "id": "93c0acf7-4770-44cf-af95-ffaf85b99215",
   "metadata": {},
   "outputs": [
    {
     "name": "stdout",
     "output_type": "stream",
     "text": [
      "Final Reward: 1\n"
     ]
    }
   ],
   "source": [
    "reward = get_reward(0,test_state[0])  # Pass hour directly\n",
    "print(f\"Final Reward: {reward}\")"
   ]
  },
  {
   "cell_type": "code",
   "execution_count": 232,
   "id": "a4a52485-e2e1-4aa8-a5d6-43a71fbd4029",
   "metadata": {},
   "outputs": [
    {
     "name": "stdout",
     "output_type": "stream",
     "text": [
      "Final Reward: -0.5\n",
      "Final Reward: -0.5\n",
      "Final Reward: -0.5\n",
      "Final Reward: -0.5\n",
      "Final Reward: -0.5\n",
      "Final Reward: -0.5\n",
      "Final Reward: 2\n",
      "Final Reward: 2\n",
      "Final Reward: 2\n",
      "Final Reward: 2\n",
      "Final Reward: 2\n",
      "Final Reward: -0.5\n",
      "Final Reward: -0.5\n",
      "Final Reward: -0.5\n",
      "Final Reward: -0.5\n",
      "Final Reward: -0.5\n",
      "Final Reward: -0.5\n",
      "Final Reward: 2\n",
      "Final Reward: 2\n",
      "Final Reward: 2\n",
      "Final Reward: 2\n",
      "Final Reward: 2\n",
      "Final Reward: -0.5\n"
     ]
    }
   ],
   "source": [
    "for i in range(0,23):\n",
    "    test_state = torch.tensor([i,80,2,0,56], dtype=torch.float32).to(device)\n",
    "    test_state = test_state.cpu().numpy() \n",
    "    reward = get_reward(1, test_state[0])  # Pass hour directly\n",
    "    print(f\"Final Reward: {reward}\")"
   ]
  },
  {
   "cell_type": "code",
   "execution_count": 236,
   "id": "8e8bac22-5f2b-43cf-9ae5-a547af921103",
   "metadata": {},
   "outputs": [
    {
     "name": "stdout",
     "output_type": "stream",
     "text": [
      "   Hour  Charging_Count  Weather  Weekend  Charging_Duration\n",
      "0     9              77        0        0                 34\n",
      "1     2              30        0        1                 71\n",
      "2    12              45        3        0                 21\n",
      "3     1              38        2        0                 60\n",
      "4     2              46        3        0                 51\n"
     ]
    }
   ],
   "source": [
    "sample = df.head()\n",
    "print(sample)  # ✅ Shows one random row"
   ]
  },
  {
   "cell_type": "code",
   "execution_count": 244,
   "id": "30a048f8-0abe-492e-bfc8-349557787e2a",
   "metadata": {},
   "outputs": [
    {
     "name": "stdout",
     "output_type": "stream",
     "text": [
      "Action 0 -> Reward: -1\n",
      "Action 1 -> Reward: 2\n"
     ]
    }
   ],
   "source": [
    "test_state = torch.tensor([10, 42,2, 1, 32], dtype=torch.float32).to(device)\n",
    "test_state = test_state.cpu().numpy()  \n",
    "\n",
    "for action in range(ACTION_SIZE):\n",
    "    reward = get_reward(action, test_state[0])\n",
    "    print(f\"Action {action} -> Reward: {reward}\")  # ✅ See reward for each action\n"
   ]
  },
  {
   "cell_type": "code",
   "execution_count": 270,
   "id": "fadc33e0-0192-4bd0-839c-0f9ab5470b70",
   "metadata": {},
   "outputs": [],
   "source": [
    "test_state = torch.tensor([1, 42,  weather_encoding[\"Rainy\"], boolean_encoding[True], 32], dtype=torch.float32).to(device)\n",
    "test_state = test_state.cpu().numpy()\n",
    "reward = get_reward(1, test_state[0])"
   ]
  },
  {
   "cell_type": "code",
   "execution_count": 271,
   "id": "be261978-87cd-4a3b-b9b1-c38824934ede",
   "metadata": {},
   "outputs": [
    {
     "data": {
      "text/plain": [
       "-0.5"
      ]
     },
     "execution_count": 271,
     "metadata": {},
     "output_type": "execute_result"
    }
   ],
   "source": [
    "reward"
   ]
  },
  {
   "cell_type": "code",
   "execution_count": 272,
   "id": "75be462c-8cb6-487b-8081-9bb3ac4b6886",
   "metadata": {},
   "outputs": [
    {
     "name": "stdout",
     "output_type": "stream",
     "text": [
      "Normal price\n"
     ]
    }
   ],
   "source": [
    "if(reward>0):\n",
    "    print(\"Increase by 1.2%\")\n",
    "else:\n",
    "    print(\"Normal price\")\n"
   ]
  },
  {
   "cell_type": "code",
   "execution_count": null,
   "id": "957662e5-62db-45b1-bf04-9a6c435f7a84",
   "metadata": {},
   "outputs": [],
   "source": []
  }
 ],
 "metadata": {
  "kernelspec": {
   "display_name": "Python 3 (ipykernel)",
   "language": "python",
   "name": "python3"
  },
  "language_info": {
   "codemirror_mode": {
    "name": "ipython",
    "version": 3
   },
   "file_extension": ".py",
   "mimetype": "text/x-python",
   "name": "python",
   "nbconvert_exporter": "python",
   "pygments_lexer": "ipython3",
   "version": "3.12.7"
  }
 },
 "nbformat": 4,
 "nbformat_minor": 5
}
