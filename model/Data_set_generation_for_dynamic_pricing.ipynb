{
 "cells": [
  {
   "cell_type": "code",
   "execution_count": 8,
   "id": "99aa06ac-c551-4c4c-a9c7-03f8ea61c312",
   "metadata": {},
   "outputs": [
    {
     "name": "stdout",
     "output_type": "stream",
     "text": [
      "✅ Dummy dataset created successfully!\n"
     ]
    }
   ],
   "source": [
    "import pandas as pd\n",
    "import numpy as np\n",
    "import random\n",
    "\n",
    "# Define possible weather conditions\n",
    "weather_conditions = [\"Sunny\", \"Cloudy\", \"Rainy\", \"Stormy\"]\n",
    "\n",
    "# Define peak hours where more charging happens\n",
    "morning_peak = list(range(7, 10))   # 7 AM to 9 AM\n",
    "evening_peak = list(range(17, 20))  # 5 PM to 7 PM\n",
    "\n",
    "# Generate 10,000 rows of data\n",
    "data = []\n",
    "for _ in range(10000):\n",
    "    hour = random.randint(0, 23)  # Random hour\n",
    "    is_weekend = random.choice([True, False])  # Weekend or not\n",
    "    weather = random.choice(weather_conditions)  # Random weather\n",
    "    \n",
    "    # Charging count logic\n",
    "    if hour in morning_peak:\n",
    "        charging_count = random.randint(6, 10)  # Higher during morning peak\n",
    "    elif hour in evening_peak:\n",
    "        charging_count = random.randint(6, 10)  # Higher during evening peak\n",
    "    else:\n",
    "        charging_count = random.randint(1, 5)   # Lower during non-peak\n",
    "\n",
    "    # Charging duration (longer on weekends)\n",
    "    charging_duration = random.randint(20, 60) if not is_weekend else random.randint(40, 90)\n",
    "\n",
    "    data.append([hour, charging_count, weather, is_weekend, charging_duration])\n",
    "\n",
    "# Create DataFrame\n",
    "df = pd.DataFrame(data, columns=[\"Hour\", \"Charging_Count\", \"Weather\", \"Weekend\", \"Charging_Duration\"])\n",
    "\n",
    "# Save to CSV for later use\n",
    "df.to_csv(\"charging_data.csv\", index=False)\n",
    "\n",
    "print(\"✅ Dummy dataset created successfully!\")"
   ]
  },
  {
   "cell_type": "code",
   "execution_count": null,
   "id": "d99457cf-c145-4893-87a4-cd8ed0fab949",
   "metadata": {},
   "outputs": [],
   "source": []
  }
 ],
 "metadata": {
  "kernelspec": {
   "display_name": "Python 3 (ipykernel)",
   "language": "python",
   "name": "python3"
  },
  "language_info": {
   "codemirror_mode": {
    "name": "ipython",
    "version": 3
   },
   "file_extension": ".py",
   "mimetype": "text/x-python",
   "name": "python",
   "nbconvert_exporter": "python",
   "pygments_lexer": "ipython3",
   "version": "3.12.7"
  }
 },
 "nbformat": 4,
 "nbformat_minor": 5
}
